{
  "nbformat": 4,
  "nbformat_minor": 0,
  "metadata": {
    "colab": {
      "name": "Copy of STAT 427 Final Project",
      "provenance": [],
      "collapsed_sections": []
    },
    "kernelspec": {
      "name": "python3",
      "display_name": "Python 3"
    }
  },
  "cells": [
    {
      "cell_type": "code",
      "metadata": {
        "id": "NA2LBZanC0De",
        "colab_type": "code",
        "colab": {}
      },
      "source": [
        "#@title Imports\n",
        "!pip install -q symbulate\n",
        "from symbulate import *\n",
        "\n",
        "import random\n",
        "import statistics\n",
        "import urllib.request\n",
        "import numpy as np\n",
        "import matplotlib.pyplot as plt\n",
        "import statistics as stat\n",
        "%matplotlib inline\n",
        "\n",
        "from numpy import mean\n",
        "from numpy import std\n",
        "from sklearn.datasets import make_regression\n",
        "from sklearn.model_selection import cross_val_score\n",
        "from sklearn.model_selection import RepeatedKFold\n",
        "from sklearn.ensemble import BaggingRegressor\n",
        "from sklearn.linear_model import LinearRegression\n",
        "from sklearn.neighbors import KNeighborsRegressor\n",
        "\n",
        "from sklearn.datasets import make_classification\n",
        "from sklearn.ensemble import BaggingClassifier\n",
        "from sklearn.neighbors import KNeighborsClassifier"
      ],
      "execution_count": 0,
      "outputs": []
    },
    {
      "cell_type": "markdown",
      "metadata": {
        "id": "eAfTEX8sDiC2",
        "colab_type": "text"
      },
      "source": [
        "# **Analyzing Boostrapping and Bootstrap Aggregation (Bagging)**"
      ]
    },
    {
      "cell_type": "markdown",
      "metadata": {
        "id": "1L-SvbdV1mLe",
        "colab_type": "text"
      },
      "source": [
        "By **Josiah Lashley** and **Steven Taruc**\n",
        "STAT 427 Final Project\n",
        "6-5-20"
      ]
    },
    {
      "cell_type": "markdown",
      "metadata": {
        "id": "3B7iNR-XsdSC",
        "colab_type": "text"
      },
      "source": [
        "**What is Bootstrapping?**\n",
        "\n",
        "The bootstrapping technique is a method of resampling sample data with replacement to estimate a population distribution. Boostrapping has many uses such as conducting hypothesis tests and confidence intervals. This method is advantageous due to its simplicity and its accuracy compared to normality and other assumptions.\n"
      ]
    },
    {
      "cell_type": "markdown",
      "metadata": {
        "id": "aIt8ytVUFNNS",
        "colab_type": "text"
      },
      "source": [
        "**When to use Bootstrapping?**\n",
        "\n",
        "\n",
        "\n",
        "*   Small Sample Size\n",
        "*   Standard Error for a Test Statistic is hard to compute\n",
        "*   Unkown Population Distribution\n",
        "\n"
      ]
    },
    {
      "cell_type": "markdown",
      "metadata": {
        "id": "fNs4RECF6PSH",
        "colab_type": "text"
      },
      "source": [
        "## **False Positives and Power with Bootstrapping**"
      ]
    },
    {
      "cell_type": "markdown",
      "metadata": {
        "id": "wkfo-z9a6uJr",
        "colab_type": "text"
      },
      "source": [
        "**We wish to see the False Discovery Rate using the Bootstrapp method on a Normal Distribution of the specific hypothesis test below**\n",
        "\n",
        "**In order to calculate the False Discovery Rate we will be assuming that the true Distribution does have a mean of 0.**"
      ]
    },
    {
      "cell_type": "markdown",
      "metadata": {
        "id": "NV40n2XApwyx",
        "colab_type": "text"
      },
      "source": [
        "$X$ ~ $ N(\\mu,\\sigma)$ **Where** $\\sigma$ **is unknown**\n",
        "\n",
        "$H_0: \\mu = 0$\n",
        "\n",
        "$H_A: \\mu \\gt 0$"
      ]
    },
    {
      "cell_type": "markdown",
      "metadata": {
        "id": "x9pAFjGG7FgD",
        "colab_type": "text"
      },
      "source": [
        "The first step in bootstrapping is to take samples of your data and put them into \"bags\". Each bag has a length of $n'$ where $n'\\leq n$. The support function below is in charge of doing just that.\n"
      ]
    },
    {
      "cell_type": "code",
      "metadata": {
        "id": "PRpYeRUYC_MY",
        "colab_type": "code",
        "colab": {}
      },
      "source": [
        "def make_bag(data,n):\n",
        "  # Initialized the bag \n",
        "  bag = []\n",
        "  while len(bag) < n:\n",
        "    # appending a random data point in the overall data to be included in this bag\n",
        "    ids = [i for i in range(len(data))]\n",
        "    rand_id = random.choice(ids)\n",
        "    bag.append(data[rand_id])\n",
        "  # when the bag is completed, the bag is returned.\n",
        "  return bag"
      ],
      "execution_count": 0,
      "outputs": []
    },
    {
      "cell_type": "markdown",
      "metadata": {
        "id": "QtbLnP_J8oNs",
        "colab_type": "text"
      },
      "source": [
        "The support function below is counting the number of times the bootstrap statistic was greater than or equal to the null hypothesis statistic."
      ]
    },
    {
      "cell_type": "code",
      "metadata": {
        "id": "WUWiZ6Gz6KXK",
        "colab_type": "code",
        "colab": {}
      },
      "source": [
        "def get_p(data,mu,k):\n",
        "  p = 0\n",
        "  for d in data: \n",
        "    if d < mu:\n",
        "      p +=1 \n",
        "  return p"
      ],
      "execution_count": 0,
      "outputs": []
    },
    {
      "cell_type": "markdown",
      "metadata": {
        "id": "i1RI-6xb_6L5",
        "colab_type": "text"
      },
      "source": [
        "Now, moving on to the main bootstrapping function. This function will go through and make K number of bags and add the mean of each bag to the bags list. After doing so it goes through the get_p function in order to obtain the p-value of our observed data"
      ]
    },
    {
      "cell_type": "code",
      "metadata": {
        "id": "AzeG3DU06HQb",
        "colab_type": "code",
        "colab": {}
      },
      "source": [
        "# K = number of bags\n",
        "# n = n' (ie number of data points in each bag)\n",
        "def boot(k,data,mu,n):\n",
        "  bags = []\n",
        "  for i in range(k):\n",
        "    # create a bag\n",
        "    bags.append(np.mean(make_bag(data,n)))\n",
        "    # add the results of the test\n",
        "  p = get_p(bags,mu,k)\n",
        "  return p/k"
      ],
      "execution_count": 0,
      "outputs": []
    },
    {
      "cell_type": "markdown",
      "metadata": {
        "id": "Ngc3rLa3DpH2",
        "colab_type": "text"
      },
      "source": [
        "For simplicity I will be simulating values from a Normal distribution but for the sake of the example lets imagine we aren't sure what the distribution looks like or the variance and all we want to know is weather or not the population mean is 0.\n",
        "\n",
        "Part A might show a common scenario where you only have 15 observations, where since we don't know that the data follows a normal distribution we are un able to apply the CLT but you still want to get a p-value and a significance test from this. Bootstrapping allows you to do this."
      ]
    },
    {
      "cell_type": "code",
      "metadata": {
        "id": "NSx7X1u6VcZ3",
        "colab_type": "code",
        "outputId": "c1fa870a-f98a-4873-a73c-460e9c3b993c",
        "colab": {
          "base_uri": "https://localhost:8080/",
          "height": 35
        }
      },
      "source": [
        "# A)\n",
        "Xa = Normal(0,1)\n",
        "xa_sims = list(Xa.sim(15))\n",
        "boot(10000,xa_sims,0,10)"
      ],
      "execution_count": 5,
      "outputs": [
        {
          "output_type": "execute_result",
          "data": {
            "text/plain": [
              "0.2286"
            ]
          },
          "metadata": {
            "tags": []
          },
          "execution_count": 5
        }
      ]
    },
    {
      "cell_type": "markdown",
      "metadata": {
        "id": "EudCtM1UWA0_",
        "colab_type": "text"
      },
      "source": [
        "One signel p-value, like the one generated above is going to varry very much simulation to simulation so, in order to take a look at false positive rates, we went and simulated the code above 100 times to see how many of those 100 had a p-value of less than or equal to .05 and then graphed them"
      ]
    },
    {
      "cell_type": "code",
      "metadata": {
        "id": "lpbNtkqbP5YJ",
        "colab_type": "code",
        "colab": {}
      },
      "source": [
        "# A)\n",
        "Xa = Normal(0,1)\n",
        "results = []\n",
        "for i in range(100):\n",
        "  xa_sims = list(Xa.sim(15))\n",
        "  results.append(boot(10000,xa_sims,0,10))"
      ],
      "execution_count": 0,
      "outputs": []
    },
    {
      "cell_type": "code",
      "metadata": {
        "id": "CMnKv_AEmfvW",
        "colab_type": "code",
        "outputId": "8af0b2d9-6e8a-4c16-f937-a1e0c1d130d2",
        "colab": {
          "base_uri": "https://localhost:8080/",
          "height": 283
        }
      },
      "source": [
        "plt.hist(results)\n",
        "c = 0\n",
        "for r in results:\n",
        "  if r <= .05:\n",
        "    c += 1\n",
        "print(c/len(results))"
      ],
      "execution_count": 7,
      "outputs": [
        {
          "output_type": "stream",
          "text": [
            "0.08\n"
          ],
          "name": "stdout"
        },
        {
          "output_type": "display_data",
          "data": {
            "image/png": "[encoded data removed]",
            "text/plain": [
              "<Figure size 432x288 with 1 Axes>"
            ]
          },
          "metadata": {
            "tags": [],
            "needs_background": "light"
          }
        }
      ]
    },
    {
      "cell_type": "markdown",
      "metadata": {
        "id": "PDQ29wXCo_vr",
        "colab_type": "text"
      },
      "source": [
        "Looking at the histogram above we can see that it looks roughly semetric which is good. We have obtained an false postive rate of .02! Which is really good knowing that the true population had a mean of 0 and we didn't have to know anything about the distribution to calculate this.\n",
        "\n",
        "Looking at this graph and this error rate, we can say that the bootstrapping method does a great job on rarely producing false postives. Which depending on the real life scenario, is very powerful."
      ]
    },
    {
      "cell_type": "markdown",
      "metadata": {
        "id": "1a2nDtXWqeU7",
        "colab_type": "text"
      },
      "source": [
        "Now we want to look at a scenario where the true population parameter aligns more with the alernative hypothesis"
      ]
    },
    {
      "cell_type": "code",
      "metadata": {
        "id": "RnaxJr7gnzoN",
        "colab_type": "code",
        "colab": {}
      },
      "source": [
        "# B)\n",
        "Xb = Normal(1,1)\n",
        "results = []\n",
        "for i in range(100):\n",
        "  xb_sims = list(Xb.sim(15))\n",
        "  results.append(boot(10000,xb_sims,0,10))"
      ],
      "execution_count": 0,
      "outputs": []
    },
    {
      "cell_type": "code",
      "metadata": {
        "id": "wYCZhxA7KK0j",
        "colab_type": "code",
        "outputId": "05327321-92d2-4f08-a02c-e8db6eb93147",
        "colab": {
          "base_uri": "https://localhost:8080/",
          "height": 283
        }
      },
      "source": [
        "plt.hist(results)\n",
        "c = 0\n",
        "for r in results:\n",
        "  if r <= .05:\n",
        "    c += 1\n",
        "print(c/len(results))"
      ],
      "execution_count": 9,
      "outputs": [
        {
          "output_type": "stream",
          "text": [
            "0.98\n"
          ],
          "name": "stdout"
        },
        {
          "output_type": "display_data",
          "data": {
            "image/png": "[encoded data removed]",
            "text/plain": [
              "<Figure size 432x288 with 1 Axes>"
            ]
          },
          "metadata": {
            "tags": [],
            "needs_background": "light"
          }
        }
      ]
    },
    {
      "cell_type": "markdown",
      "metadata": {
        "id": "N54yO9bdmwka",
        "colab_type": "text"
      },
      "source": [
        "Now when we have a scenario where the alternative is true, we get very strong power of about .95, which is really good! Boostrapping and Bagging shows that you're able to get very strong results of power when we aren't even sure of the distribution."
      ]
    },
    {
      "cell_type": "markdown",
      "metadata": {
        "id": "NnI_MybZiciW",
        "colab_type": "text"
      },
      "source": [
        "In part C we are going to explore the false postive when we even lower the simulated values of \n",
        "\n"
      ]
    },
    {
      "cell_type": "code",
      "metadata": {
        "id": "te50LVbbrc3b",
        "colab_type": "code",
        "colab": {}
      },
      "source": [
        "# C)\n",
        "Xc = Normal(0,1)\n",
        "results = []\n",
        "for i in range(100):\n",
        "  xc_sims = list(Xc.sim(5))\n",
        "  results.append(boot(10000,xc_sims,0,4))"
      ],
      "execution_count": 0,
      "outputs": []
    },
    {
      "cell_type": "code",
      "metadata": {
        "id": "iu7HKBIlC5ec",
        "colab_type": "code",
        "outputId": "07bbf7f5-6dd6-45a5-d536-53107fde7af1",
        "colab": {
          "base_uri": "https://localhost:8080/",
          "height": 283
        }
      },
      "source": [
        "plt.hist(results)\n",
        "c = 0\n",
        "for r in results:\n",
        "  if r <= .05:\n",
        "    c += 1\n",
        "print(c/len(results))"
      ],
      "execution_count": 11,
      "outputs": [
        {
          "output_type": "stream",
          "text": [
            "0.04\n"
          ],
          "name": "stdout"
        },
        {
          "output_type": "display_data",
          "data": {
            "image/png": "[encoded data removed]",
            "text/plain": [
              "<Figure size 432x288 with 1 Axes>"
            ]
          },
          "metadata": {
            "tags": [],
            "needs_background": "light"
          }
        }
      ]
    },
    {
      "cell_type": "markdown",
      "metadata": {
        "id": "rY7MLmEiC-Iv",
        "colab_type": "text"
      },
      "source": [
        "Looking at the output and the graph above we still see that we have a low false postive rate which is very good considering that our sample size has become even smaller. "
      ]
    },
    {
      "cell_type": "markdown",
      "metadata": {
        "id": "wgKRvt20lbNu",
        "colab_type": "text"
      },
      "source": [
        "## **Exponential Bootstrapping**"
      ]
    },
    {
      "cell_type": "markdown",
      "metadata": {
        "id": "ufZMy1ijBgw4",
        "colab_type": "text"
      },
      "source": [
        "We are going to use the functions above but we are going to look at an Exponential Distribution. For this example the Hypothesis will be as follows"
      ]
    },
    {
      "cell_type": "markdown",
      "metadata": {
        "id": "YKUKx5IhEoaH",
        "colab_type": "text"
      },
      "source": [
        "$X$ ~ $ E(\\mu_0)$\n",
        "\n",
        "$H_0: \\mu = \\mu_0$\n",
        "\n",
        "$H_A: \\mu \\lt \\mu_0$"
      ]
    },
    {
      "cell_type": "markdown",
      "metadata": {
        "id": "XDi5qXizs0_m",
        "colab_type": "text"
      },
      "source": [
        "In part A of this example we are going to look at the false postive rate of an exponential distribution with $\\mu = \\frac{1}{2}$ and we once again want to see what the false positive rate will be but for an exponential distribution"
      ]
    },
    {
      "cell_type": "code",
      "metadata": {
        "id": "GFwPbYb_sER8",
        "colab_type": "code",
        "colab": {}
      },
      "source": [
        "# A)\n",
        "Ea = Exponential(1/2)\n",
        "results = []\n",
        "for i in range(100):\n",
        "  ea_sims = list(Ea.sim(15))\n",
        "  results.append(boot(10000,ea_sims,2,10))"
      ],
      "execution_count": 0,
      "outputs": []
    },
    {
      "cell_type": "code",
      "metadata": {
        "id": "70VxXiiJEXBg",
        "colab_type": "code",
        "outputId": "6546b345-9c40-4713-ce25-2922b5618a84",
        "colab": {
          "base_uri": "https://localhost:8080/",
          "height": 283
        }
      },
      "source": [
        "plt.hist(results)\n",
        "c = 0\n",
        "for r in results:\n",
        "  if r <= .05:\n",
        "    c += 1\n",
        "print(c/len(results))"
      ],
      "execution_count": 13,
      "outputs": [
        {
          "output_type": "stream",
          "text": [
            "0.03\n"
          ],
          "name": "stdout"
        },
        {
          "output_type": "display_data",
          "data": {
            "image/png": "[encoded data removed]",
            "text/plain": [
              "<Figure size 432x288 with 1 Axes>"
            ]
          },
          "metadata": {
            "tags": [],
            "needs_background": "light"
          }
        }
      ]
    },
    {
      "cell_type": "markdown",
      "metadata": {
        "id": "HHtXhb-3tZxo",
        "colab_type": "text"
      },
      "source": [
        "Once again looking at the graphs above we can see that bootstrapping does an amazing job at keeping the false positives to a minimum without any  knowledge of the distribution. Only thing that is needed is the null mean. "
      ]
    },
    {
      "cell_type": "markdown",
      "metadata": {
        "id": "Xj_ihYOrvZY_",
        "colab_type": "text"
      },
      "source": [
        "In part B, we are going to look at the power of one of these tests when the sample size is even smaller. "
      ]
    },
    {
      "cell_type": "code",
      "metadata": {
        "id": "n3O8DFwDFSIT",
        "colab_type": "code",
        "colab": {}
      },
      "source": [
        "# B)\n",
        "Ea = Exponential(1/4)\n",
        "results = []\n",
        "for i in range(100):\n",
        "  ea_sims = list(Ea.sim(10))\n",
        "  results.append(boot(10000,ea_sims,2,5))"
      ],
      "execution_count": 0,
      "outputs": []
    },
    {
      "cell_type": "code",
      "metadata": {
        "id": "KJGO8jYqvleM",
        "colab_type": "code",
        "outputId": "e0ba0031-905e-4f87-8276-6cb2bab7da85",
        "colab": {
          "base_uri": "https://localhost:8080/",
          "height": 283
        }
      },
      "source": [
        "plt.hist(results)\n",
        "c = 0\n",
        "for r in results:\n",
        "  if r <= .05:\n",
        "    c += 1\n",
        "print(c/len(results))"
      ],
      "execution_count": 15,
      "outputs": [
        {
          "output_type": "stream",
          "text": [
            "0.33\n"
          ],
          "name": "stdout"
        },
        {
          "output_type": "display_data",
          "data": {
            "image/png": "[encoded data removed]",
            "text/plain": [
              "<Figure size 432x288 with 1 Axes>"
            ]
          },
          "metadata": {
            "tags": [],
            "needs_background": "light"
          }
        }
      ]
    },
    {
      "cell_type": "markdown",
      "metadata": {
        "id": "5kAjSbGKwsXM",
        "colab_type": "text"
      },
      "source": [
        "When we look at this example we are able to see that the power is definatly not as strong from when we sampled from a normal distribution. For this simulation in particular we obtained a power of about .36 which is not very strong at all. "
      ]
    },
    {
      "cell_type": "markdown",
      "metadata": {
        "id": "q4Bcl8GfiikE",
        "colab_type": "text"
      },
      "source": [
        "So, when comparing Boostraping when the population distribution follows a normal distribution compared to an exponential distribution we gat varying results. Which is not suprising since Normal distributions are very consistent and are great for yeilding accurate results. But in these examples we showed that even though the two distributions were completely different, if we apply the same bootstrapping method to them we are able to achieve a low false positive rate.\n",
        "\n",
        "But, something very important to learn from this is that bootstrapping is a very good test and method to apply when it is very important to keep false positvies to a minimum. Such examples could be with medical equipment and diagnoses where you want to be sure when you accept the alternative hypothesis.\n"
      ]
    },
    {
      "cell_type": "markdown",
      "metadata": {
        "id": "EZRjX4TossMp",
        "colab_type": "text"
      },
      "source": [
        "## **Poisson Bootstrapping**\n",
        "\n",
        "The standard bootstrap procedure creates each resampled dataset by drawing observations from the sample $X$ with replacement, so from $n$ observations we draw $n$ with replacement.\n",
        "\n",
        "Therefore, each observation from the sample may occur 0,1, or more times according to the $Binomial(n,1/n)$. Since the total number of observations is n, the counts are jointly $Multinomial(n,1/n,⋯,1/n)$.\n",
        "\n",
        "For example, if we have a sample of size 4 = $[1,2,3,4]$, our bootstrap resample disctribution would follow \n",
        "$Multinomial(4,\\frac{1}{4},\\frac{1}{4},\\frac{1}{4},\\frac{1}{4})$. For small samples, the multinomial approach is better at estimating standard errors. \n",
        "\n",
        "When it comes to large sample sizes, the multinomial boostrap is problematic. The sum of counts in the multinomial distribution are fixed, which causes negative correlation with one another. In the real world, we may not know the total number of observations.\n",
        "\n",
        "This is where Poisson Boostrapping comes along. We can sample each observation in each bootstrap sample independently from $Binomial(n,\\frac{1}{n})$. However\n",
        "it turns out that $$\\lim_{x\\to\\infty} Binomial(n,\\frac{1}{n}) = Poisson(1)$$ \n",
        "\n",
        "Therefore, we can independently sample the amount of each observation without having to know $n$. \n"
      ]
    },
    {
      "cell_type": "code",
      "metadata": {
        "id": "zcIkFERaWhDd",
        "colab_type": "code",
        "colab": {
          "base_uri": "https://localhost:8080/",
          "height": 380
        },
        "outputId": "b57322fc-3bc7-4115-a5bc-5e310364fadc"
      },
      "source": [
        "sample = [12,34,42,56,23,45]\n",
        "B = 5\n",
        "\n",
        "for i in range(B):\n",
        "  p_samples = []\n",
        "  for i in sample:\n",
        "    p_samples.append(Poisson(1).draw())\n",
        "    new_sample = []\n",
        "    for idx, num in enumerate(p_samples):\n",
        "      for l in range(num):\n",
        "        new_sample.append(sample[idx])\n",
        "\n",
        "  print(\"Number of selections per value: \",p_samples)\n",
        "  print(\"Poisson resample: \",new_sample)\n",
        "  print(\"\\n\")"
      ],
      "execution_count": 16,
      "outputs": [
        {
          "output_type": "stream",
          "text": [
            "Number of selections per value:  [2, 0, 0, 0, 0, 0]\n",
            "Poisson resample:  [12, 12]\n",
            "\n",
            "\n",
            "Number of selections per value:  [1, 1, 2, 0, 3, 1]\n",
            "Poisson resample:  [12, 34, 42, 42, 23, 23, 23, 45]\n",
            "\n",
            "\n",
            "Number of selections per value:  [0, 3, 1, 2, 1, 0]\n",
            "Poisson resample:  [34, 34, 34, 42, 56, 56, 23]\n",
            "\n",
            "\n",
            "Number of selections per value:  [0, 2, 0, 2, 4, 1]\n",
            "Poisson resample:  [34, 34, 56, 56, 23, 23, 23, 23, 45]\n",
            "\n",
            "\n",
            "Number of selections per value:  [1, 0, 0, 2, 1, 3]\n",
            "Poisson resample:  [12, 56, 56, 23, 45, 45, 45]\n",
            "\n",
            "\n"
          ],
          "name": "stdout"
        }
      ]
    },
    {
      "cell_type": "markdown",
      "metadata": {
        "id": "5SMe7TRKyywm",
        "colab_type": "text"
      },
      "source": [
        "In the example above, we notice that some resamples can only have 2 or a small number of elements. This will not be an issue when $n \\geq 100$ because the count in each resample will likely be close to $n$ or within $n±\\sqrt2$."
      ]
    },
    {
      "cell_type": "markdown",
      "metadata": {
        "id": "PfpgzEF8y4Dk",
        "colab_type": "text"
      },
      "source": [
        "## **Bootstrap Aggregation (Bagging) in Machine Learning**\n",
        "\n",
        "In machine learning, a common method of optimizing a model is combining multiple models together to produce one whole model. This process is called the **ensemble meta-algorithm** intended to improve stability and accuracy in classifiers and regressors. This method reduces variability and helps avoid models that overfit the data.\n",
        "\n",
        "When we develop a machine learning model for a set of data, we separate the data into **training data** and **testing data**. The training data is used to train the classifier or regressor and is then tested on the testing data to determine the model's accuracy and variability. We then use **cross-validation** by subsetting the sample data to unique sets of training and testing sets to further test and solidify the model.\n",
        "\n",
        "**Bootstrap aggregation** or **bagging**, is an ensemble method that generates $m$ training subsets of sample data $D$ through bootstrapping (uniformly with replacement). It then fits $m$ models using the $m$ bootstrapped samples and are combined by averaging the output for regression and votes the output for classification.\n",
        "\n",
        "Bagging is used in many types of machine learning algorithms like classification trees, linear regression, and neural networks."
      ]
    },
    {
      "cell_type": "markdown",
      "metadata": {
        "id": "ms3zJSLfy89X",
        "colab_type": "text"
      },
      "source": [
        "### **Bagging with Linear Regression**\n",
        "\n",
        "In this example, we will be comparing the bagging technique with a well-known machine learning model called K-Nearest Neighbors. KNN can be used as a regressor for determining values based on averaging the $k$ nearest sample data points from the suspected data point. \n",
        "\n",
        "We use Sci-Kit Learn to make a sample dataset of all quantitative variables of length $n$ = 1000 with 5 features. \n",
        "\n",
        "We run the KNN model and Bagging Model on the data and evaluate the mean absolute errors using the same cross validation schema. "
      ]
    },
    {
      "cell_type": "code",
      "metadata": {
        "id": "E217VQ6Ks3CH",
        "colab_type": "code",
        "colab": {
          "base_uri": "https://localhost:8080/",
          "height": 53
        },
        "outputId": "314fbbff-f613-4796-9c3c-09238e126925"
      },
      "source": [
        "# Create a Dataset\n",
        "X, y = make_regression(n_samples=1000, n_features=5, n_informative=15, noise=0.1, random_state=10)\n",
        "\n",
        "# Define models\n",
        "knn_model = KNeighborsRegressor(n_neighbors=5)\n",
        "bagging_model = BaggingRegressor()\n",
        "\n",
        "# Evalueate models\n",
        "cv = RepeatedKFold(n_splits=10, n_repeats=3, random_state=1)\n",
        "knn_scores = -cross_val_score(knn_model, X, y, scoring='neg_mean_absolute_error', cv=cv, n_jobs=-1, error_score='raise')\n",
        "bagging_scores = -cross_val_score(bagging_model, X, y, scoring='neg_mean_absolute_error', cv=cv, n_jobs=-1, error_score='raise')\n",
        "\n",
        "print('K-Nearest Neighbors MAE: %.3f (%.3f)' % (mean(knn_scores), std(knn_scores)))\n",
        "print('Bagging MAE: %.3f (%.3f)' % (mean(bagging_scores), std(bagging_scores)))"
      ],
      "execution_count": 17,
      "outputs": [
        {
          "output_type": "stream",
          "text": [
            "K-Nearest Neighbors MAE: 22.065 (2.042)\n",
            "Bagging MAE: 16.334 (1.283)\n"
          ],
          "name": "stdout"
        }
      ]
    },
    {
      "cell_type": "markdown",
      "metadata": {
        "id": "_sX_xRxLzCWk",
        "colab_type": "text"
      },
      "source": [
        "As we can see from the results, the bagging model has a significantly less MAE, proving it has less variability in predicting values."
      ]
    },
    {
      "cell_type": "markdown",
      "metadata": {
        "id": "BLxVlnJQzEOP",
        "colab_type": "text"
      },
      "source": [
        "### **Bagging with Classification**\n",
        "\n",
        "Same as above, we can compare a KNN classifying model with the bagging classifier in determining categorical variables from a set of features. \n",
        "\n",
        "In this case, we are using the same type of model (KNN Model of 5 nearest neighbors) for each resampled bag from the sample data. \n",
        "\n",
        "Our evaluation method is determining the accuracy of the model with the same cross validation schema"
      ]
    },
    {
      "cell_type": "code",
      "metadata": {
        "id": "XNte74K-zVp9",
        "colab_type": "code",
        "colab": {
          "base_uri": "https://localhost:8080/",
          "height": 53
        },
        "outputId": "a919b1f4-6ab2-43ad-8de6-74ff49d08129"
      },
      "source": [
        "# Create a Dataset\n",
        "X, y = make_classification(n_samples=1000, n_features=20, n_informative=15, n_redundant=5, random_state=5)\n",
        "\n",
        "# Define models\n",
        "knn_classifier = KNeighborsClassifier(n_neighbors=5)\n",
        "b_classifier = BaggingClassifier(base_estimator=KNeighborsClassifier(n_neighbors=5))\n",
        "\n",
        "# Evaluate models\n",
        "cv = RepeatedKFold(n_splits=10, n_repeats=3, random_state=1)\n",
        "knn_scores = mean(cross_val_score(knn_classifier, X, y, scoring='accuracy', cv=cv, n_jobs=-1, error_score='raise'))\n",
        "b_scores = mean(cross_val_score(b_classifier, X, y, scoring='accuracy', cv=cv, n_jobs=-1, error_score='raise'))\n",
        "\n",
        "print(\"Accuracy of KNN Classifier: \", round(knn_scores,5))\n",
        "print(\"Accuracy of Bagging Classifier: \", round(b_scores,5))"
      ],
      "execution_count": 18,
      "outputs": [
        {
          "output_type": "stream",
          "text": [
            "Accuracy of KNN Classifier:  0.88167\n",
            "Accuracy of Bagging Classifier:  0.88267\n"
          ],
          "name": "stdout"
        }
      ]
    },
    {
      "cell_type": "markdown",
      "metadata": {
        "id": "WBGsSYX8zSVV",
        "colab_type": "text"
      },
      "source": [
        "Although the accuracy's are similar, we can see improvement with using multiple bags to reduce variability in the ensemble model."
      ]
    }
  ]
}